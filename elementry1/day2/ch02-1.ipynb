{
 "cells": [
  {
   "cell_type": "code",
   "execution_count": 1,
   "id": "20d86543-7fba-459f-9f25-96be102553d2",
   "metadata": {},
   "outputs": [
    {
     "name": "stdout",
     "output_type": "stream",
     "text": [
      "Hello World!~\n"
     ]
    }
   ],
   "source": [
    "print(\"Hello World!~\")\n"
   ]
  },
  {
   "cell_type": "code",
   "execution_count": 2,
   "id": "9083bf7e-3c25-41ab-9ae0-623f60dc4df8",
   "metadata": {},
   "outputs": [
    {
     "data": {
      "text/plain": [
       "5"
      ]
     },
     "execution_count": 2,
     "metadata": {},
     "output_type": "execute_result"
    }
   ],
   "source": [
    "a=1\n",
    "b=4\n",
    "a+b\n"
   ]
  },
  {
   "cell_type": "code",
   "execution_count": 3,
   "id": "f7d239a0-7eb1-4e8e-8911-c7f39a12b3db",
   "metadata": {},
   "outputs": [],
   "source": [
    "def add(a, b):\n",
    "    return a+b\n"
   ]
  },
  {
   "cell_type": "code",
   "execution_count": 4,
   "id": "334fd9af-0b6d-4184-8efa-0b0d1c70af2d",
   "metadata": {},
   "outputs": [
    {
     "data": {
      "text/plain": [
       "7"
      ]
     },
     "execution_count": 4,
     "metadata": {},
     "output_type": "execute_result"
    }
   ],
   "source": [
    "add(3,4)"
   ]
  },
  {
   "cell_type": "code",
   "execution_count": 5,
   "id": "2d70faa9-6e1f-47c3-a83d-08225f0902d8",
   "metadata": {},
   "outputs": [],
   "source": [
    "c=3"
   ]
  },
  {
   "cell_type": "code",
   "execution_count": 6,
   "id": "355b98b2-8b1d-470b-ae18-79ff30238c8f",
   "metadata": {},
   "outputs": [
    {
     "data": {
      "text/plain": [
       "3"
      ]
     },
     "execution_count": 6,
     "metadata": {},
     "output_type": "execute_result"
    }
   ],
   "source": [
    "c"
   ]
  },
  {
   "cell_type": "code",
   "execution_count": 7,
   "id": "8acf6201-96a7-42ff-9684-3ebeb14d35b8",
   "metadata": {},
   "outputs": [
    {
     "name": "stdout",
     "output_type": "stream",
     "text": [
      "127\n",
      "7\n",
      "2303\n",
      "2748\n"
     ]
    }
   ],
   "source": [
    "a = 0o177\n",
    "print(a)\n",
    "a = 0o7\n",
    "print(a)\n",
    "a = 0x8FF\n",
    "b = 0xabc\n",
    "print(a)\n",
    "print(b)"
   ]
  },
  {
   "cell_type": "code",
   "execution_count": null,
   "id": "ac14e88f-6060-4037-9770-037b313fb6f4",
   "metadata": {},
   "outputs": [],
   "source": []
  }
 ],
 "metadata": {
  "kernelspec": {
   "display_name": "Python 3 (ipykernel)",
   "language": "python",
   "name": "python3"
  },
  "language_info": {
   "codemirror_mode": {
    "name": "ipython",
    "version": 3
   },
   "file_extension": ".py",
   "mimetype": "text/x-python",
   "name": "python",
   "nbconvert_exporter": "python",
   "pygments_lexer": "ipython3",
   "version": "3.11.7"
  }
 },
 "nbformat": 4,
 "nbformat_minor": 5
}
