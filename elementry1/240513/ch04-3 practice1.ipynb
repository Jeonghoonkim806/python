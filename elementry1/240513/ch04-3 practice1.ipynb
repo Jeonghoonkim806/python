{
 "cells": [
  {
   "cell_type": "code",
   "execution_count": 1,
   "metadata": {},
   "outputs": [],
   "source": [
    "# for문 별 그리고 문제\n",
    "\n",
    "# *을 그리는 print함수안의 *는 무조건 1개만 되도록 한다.\n",
    "\n",
    "# 문제1\n",
    "# for문 혹은 이중 for 문을 이용해서 아래와 같은 별을 그리는 코드를 작성\n",
    "# *\n",
    "# **\n",
    "# ***\n",
    "# ****\n",
    "# *****"
   ]
  },
  {
   "cell_type": "code",
   "execution_count": 7,
   "metadata": {},
   "outputs": [
    {
     "name": "stdout",
     "output_type": "stream",
     "text": [
      "*\n",
      "**\n",
      "***\n",
      "****\n",
      "*****\n"
     ]
    }
   ],
   "source": [
    "for i in range(5):\n",
    "    print('*'*(i+1))\n"
   ]
  },
  {
   "cell_type": "code",
   "execution_count": 1,
   "metadata": {},
   "outputs": [],
   "source": [
    "# 문제2\n",
    "# for문 혹은 이중 for문을 이용 아래와 같은 별을 그리는 코드를 작성\n",
    "#     *  \n",
    "#    **\n",
    "#   ***\n",
    "#  ****\n",
    "# *****"
   ]
  },
  {
   "cell_type": "code",
   "execution_count": 12,
   "metadata": {},
   "outputs": [
    {
     "name": "stdout",
     "output_type": "stream",
     "text": [
      "     *\n",
      "    **\n",
      "   ***\n",
      "  ****\n",
      " *****\n"
     ]
    }
   ],
   "source": [
    "for i in range(5):\n",
    "    for j in range(5-i):\n",
    "        print(\" \", end=\"\")\n",
    "    for k in range(i+1):\n",
    "        print(\"*\",end=\"\" )\n",
    "    print()"
   ]
  },
  {
   "cell_type": "code",
   "execution_count": 36,
   "metadata": {},
   "outputs": [
    {
     "name": "stdout",
     "output_type": "stream",
     "text": [
      "*****\n",
      "****\n",
      "***\n",
      "**\n",
      "*\n"
     ]
    }
   ],
   "source": [
    "# 문제3\n",
    "# for문 혹은 이중 for문을 이용 아래와 같은 별을 그리는 코드를 작성\n",
    "# *****\n",
    "# ****\n",
    "# ***\n",
    "# **\n",
    "# *\n",
    "\n",
    "for i in range(1, 6):\n",
    "    for j in range(6 - i):\n",
    "        print(\"*\", end = \"\")\n",
    "    print()"
   ]
  },
  {
   "cell_type": "code",
   "execution_count": 15,
   "metadata": {},
   "outputs": [
    {
     "name": "stdout",
     "output_type": "stream",
     "text": [
      "*****\n",
      "****\n",
      "***\n",
      "**\n",
      "*\n"
     ]
    }
   ],
   "source": [
    "for i in range(5,0,-1):\n",
    "    print(\"*\"*i)"
   ]
  },
  {
   "cell_type": "code",
   "execution_count": 38,
   "metadata": {},
   "outputs": [
    {
     "name": "stdout",
     "output_type": "stream",
     "text": [
      "    *\n",
      "   ***\n",
      "  *****\n",
      " *******\n",
      "*********\n"
     ]
    }
   ],
   "source": [
    "# 문제4\n",
    "# for문 혹은 이중 for문을 이용 아래와 같은 별을 그리는 코드를 작성\n",
    "#     *\n",
    "#    ***\n",
    "#   *****\n",
    "#  *******\n",
    "# ********* \n",
    "\n",
    "for i in range(1, 6):\n",
    "    for j in range(5 - i):     # 줄 라인 i에 따라 빈 공백 출력\n",
    "        print(\" \", end = \"\")\n",
    "    for j in range(2 * i - 1): # 홀수 개수만큼 *출력\n",
    "        print(\"*\", end = \"\")\n",
    "    print()"
   ]
  },
  {
   "cell_type": "code",
   "execution_count": 17,
   "metadata": {},
   "outputs": [
    {
     "name": "stdout",
     "output_type": "stream",
     "text": [
      "    *\n",
      "   ***\n",
      "  *****\n",
      " *******\n",
      "*********\n"
     ]
    }
   ],
   "source": [
    "for i in range(5):\n",
    "    for j in range(4-i):\n",
    "        print(\" \",end=\"\")\n",
    "    for k in range(2*(i+1)-1):\n",
    "        print(\"*\",end=\"\")\n",
    "    print()"
   ]
  },
  {
   "cell_type": "code",
   "execution_count": 62,
   "metadata": {},
   "outputs": [
    {
     "name": "stdout",
     "output_type": "stream",
     "text": [
      "16\n",
      "[35, 4, 40, 42, 29, 31]\n"
     ]
    }
   ],
   "source": [
    "# 문제 5\n",
    "# 로또 번호 생성 프로그램 제작. 로또 생성 프로그램은 아래 조건을 만족해야 한다.\n",
    "# (1) 1~45 숫자 중 6개의 숫자가 나와야 한다.\n",
    "# (2) 중복된 숫자가 나와서는 안된다. \n",
    "\n",
    "import random\n",
    "\n",
    "print(random.randint(1,45))\n",
    "\n",
    "a = []\n",
    "\n",
    "while 1 == 1:\n",
    "    if len(a) == 6:\n",
    "        break\n",
    "    else:\n",
    "        a =[]\n",
    "        for i in range(6):\n",
    "            a.append(random.randint(1,45))\n",
    "        a = list(set(a))\n",
    "\n",
    "print(a)\n"
   ]
  },
  {
   "cell_type": "code",
   "execution_count": 63,
   "metadata": {},
   "outputs": [
    {
     "name": "stdout",
     "output_type": "stream",
     "text": [
      "[1, 4, 9, 19, 32, 43]\n"
     ]
    }
   ],
   "source": [
    "import random\n",
    "\n",
    "a = []\n",
    "while len(a) < 6: \n",
    "    number = random.randint(1, 45)\n",
    "    if number not in a:\n",
    "        a.append(number) \n",
    "a.sort()\n",
    "print(a)"
   ]
  },
  {
   "cell_type": "code",
   "execution_count": null,
   "metadata": {},
   "outputs": [],
   "source": []
  },
  {
   "cell_type": "code",
   "execution_count": null,
   "metadata": {},
   "outputs": [],
   "source": []
  }
 ],
 "metadata": {
  "kernelspec": {
   "display_name": "base",
   "language": "python",
   "name": "python3"
  },
  "language_info": {
   "codemirror_mode": {
    "name": "ipython",
    "version": 3
   },
   "file_extension": ".py",
   "mimetype": "text/x-python",
   "name": "python",
   "nbconvert_exporter": "python",
   "pygments_lexer": "ipython3",
   "version": "3.11.7"
  }
 },
 "nbformat": 4,
 "nbformat_minor": 2
}
