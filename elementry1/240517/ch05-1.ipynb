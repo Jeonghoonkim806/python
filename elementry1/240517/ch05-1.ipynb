{
 "cells": [
  {
   "cell_type": "code",
   "execution_count": 4,
   "metadata": {},
   "outputs": [
    {
     "name": "stdout",
     "output_type": "stream",
     "text": [
      "3\n",
      "7\n",
      "3\n",
      "10\n"
     ]
    }
   ],
   "source": [
    "# Calculator클래스 생성\n",
    "class Calculator:\n",
    "    def __init__(self):      # 생성자와(변수를 초기화) 비슷한 역할\n",
    "        self.result = 0      # result변수를 0으로 초기화\n",
    "    \n",
    "    def add(self, num):      # add 일반함수\n",
    "        self.result = self.result + num\n",
    "        return self.result\n",
    "    \n",
    "    def sub(self, num):      # sub 일반함수\n",
    "        self.result = self.result - num\n",
    "        return self.result\n",
    "    \n",
    "cal1 = Calculator()  # 객체 생성(실제 붕어빵)하여 cal1변수에 대입\n",
    "cal2 = Calculator()  # 객체 생성(실제 붕어빵)하여 cal2변수에 대입\n",
    "cal3 = Calculator()\n",
    "cal4 = Calculator()\n",
    "cal5 = Calculator()\n",
    "\n",
    "a = cal1.add(3) # 0 + 3 -> 3 class Calculator안에 있는 addd함수를 호출\n",
    "print(a)        # 3\n",
    "a = cal1.add(4) # 3 + 4 -> 7\n",
    "print(a)        # 7 \n",
    "a = cal2.add(3) # 0 + 3 -> 3\n",
    "print(a)        # 3\n",
    "a = cal2.add(7) # 7\n",
    "print(a)"
   ]
  },
  {
   "cell_type": "code",
   "execution_count": 38,
   "metadata": {},
   "outputs": [
    {
     "name": "stdout",
     "output_type": "stream",
     "text": [
      "<class '__main__.FourCal'>\n",
      "4\n",
      "2\n",
      "3\n",
      "4\n",
      "6\n",
      "8\n",
      "2\n",
      "2.0\n"
     ]
    }
   ],
   "source": [
    "class FourCal():\n",
    "    # 매소드 들의 생성 순서는 상관이 없다.\n",
    "    def __init__(self, first, second): # 생성자\n",
    "        self.first = first\n",
    "        self.second = second\n",
    "\n",
    "    def setdata(self, first, second):\n",
    "        self.first = first    # self는 java스크립트에 this와 비슷하다\n",
    "        self.second = second\n",
    "    \n",
    "    def add(self):\n",
    "        result = self.first + self.second\n",
    "        return result\n",
    "    \n",
    "    def sub(self):\n",
    "        result = self.first - self.second\n",
    "        return result\n",
    "    \n",
    "    def mul(self):\n",
    "        result = self.first * self.second\n",
    "        return result\n",
    "    \n",
    "    def div(self):\n",
    "        result = self.first / self.second\n",
    "        return result\n",
    "    \n",
    "# a = FourCal()\n",
    "print(type(a))\n",
    "\n",
    "a.setdata(4, 2)\n",
    "print(a.first)\n",
    "print(a.second)\n",
    "FourCal.setdata(a, 4, 2)\n",
    "\n",
    "#b = FourCal()\n",
    "b.setdata(3, 7)\n",
    "print(b.first)\n",
    "print(a.first)\n",
    "\n",
    "print(a.add())\n",
    "print(a.mul())\n",
    "print(a.sub())\n",
    "print(a.div())"
   ]
  },
  {
   "cell_type": "code",
   "execution_count": 36,
   "metadata": {},
   "outputs": [
    {
     "name": "stdout",
     "output_type": "stream",
     "text": [
      "2\n",
      "8\n",
      "-2\n",
      "0.5\n"
     ]
    }
   ],
   "source": [
    "a = FourCal(2, 4) # 생성자 __init__ 함수가 실행됨\n",
    "print(a.first)\n",
    "print(a.mul())\n",
    "print(a.sub())\n",
    "print(a.div())"
   ]
  },
  {
   "cell_type": "code",
   "execution_count": null,
   "metadata": {},
   "outputs": [],
   "source": []
  }
 ],
 "metadata": {
  "kernelspec": {
   "display_name": "base",
   "language": "python",
   "name": "python3"
  },
  "language_info": {
   "codemirror_mode": {
    "name": "ipython",
    "version": 3
   },
   "file_extension": ".py",
   "mimetype": "text/x-python",
   "name": "python",
   "nbconvert_exporter": "python",
   "pygments_lexer": "ipython3",
   "version": "3.11.7"
  }
 },
 "nbformat": 4,
 "nbformat_minor": 2
}
