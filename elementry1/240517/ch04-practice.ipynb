{
 "cells": [
  {
   "cell_type": "code",
   "execution_count": 4,
   "metadata": {},
   "outputs": [
    {
     "name": "stdout",
     "output_type": "stream",
     "text": [
      "Life is too short\n"
     ]
    }
   ],
   "source": [
    "#문제1\n",
    "#다음은 파일(test1.txt)에 \"Life is too short\"문자열을 저장한 후\n",
    "#다시 그 파일을 읽어 출력하는 프로그램이다.\n",
    "f1 = open(\"test1.txt\", 'w')\n",
    "f1.write(\"Life is too short\")\n",
    "f1.close()\n",
    "\n",
    "f2 = open(\"test1.txt\", 'r')\n",
    "print(f2.read())\n",
    "\n",
    "#위 프로그램은 우리가 예상한 'Life is too short'라는 문장을 출력하지 않는다.\n",
    "#우리가 예상한 값을 출력할 수 있도록 프로그램을 수정하시오"
   ]
  },
  {
   "cell_type": "code",
   "execution_count": 2,
   "metadata": {},
   "outputs": [],
   "source": [
    "#문제2\n",
    "#사용자의 입력을 파일(test2.txt)에 저장하는 프로그램을 작성해 보자\n",
    "#단, 프로그램을 다시 실행하더라도 기존에 작성한 내용을 유지하고\n",
    "#새로 입력한 내용을 추가해야 한다.\n",
    "user_input = input(\"저장할 내용을 입력하세요:\")\n",
    "f = open('test2.txt', 'a')  # <- 빈칸을 채우시오\n",
    "f.write(user_input)\n",
    "f.write(\"\\n\")\n",
    "f.close() # <- 입력한 내용을 줄 단위로 구분하기 위해 줄 바꿈 문자 삽입하는 코드로 채우시오"
   ]
  },
  {
   "cell_type": "code",
   "execution_count": 4,
   "metadata": {},
   "outputs": [
    {
     "ename": "ValueError",
     "evalue": "I/O operation on closed file.",
     "output_type": "error",
     "traceback": [
      "\u001b[1;31m---------------------------------------------------------------------------\u001b[0m",
      "\u001b[1;31mValueError\u001b[0m                                Traceback (most recent call last)",
      "Cell \u001b[1;32mIn[4], line 9\u001b[0m\n\u001b[0;32m      1\u001b[0m \u001b[38;5;66;03m#문제3\u001b[39;00m\n\u001b[0;32m      2\u001b[0m \u001b[38;5;66;03m#아래와 같은 내용을 지닌 test3.txt파일이 있다.\u001b[39;00m\n\u001b[0;32m      3\u001b[0m \u001b[38;5;66;03m#==================\u001b[39;00m\n\u001b[1;32m   (...)\u001b[0m\n\u001b[0;32m      6\u001b[0m \u001b[38;5;66;03m#==================\u001b[39;00m\n\u001b[0;32m      7\u001b[0m \u001b[38;5;66;03m#이 파일의 내용 중 \"java\"라는 문자열을 \"python\"으로 바꾸어 저장하는 코드를 작성하시오\u001b[39;00m\n\u001b[1;32m----> 9\u001b[0m body \u001b[38;5;241m=\u001b[39m f\u001b[38;5;241m.\u001b[39mread()\n\u001b[0;32m     10\u001b[0m f\u001b[38;5;241m.\u001b[39mclose()\n\u001b[0;32m     12\u001b[0m body \u001b[38;5;241m=\u001b[39m body\u001b[38;5;241m.\u001b[39mreplace(\u001b[38;5;124m\"\u001b[39m\u001b[38;5;124mjava\u001b[39m\u001b[38;5;124m\"\u001b[39m, \u001b[38;5;124m\"\u001b[39m\u001b[38;5;124mpython\u001b[39m\u001b[38;5;124m\"\u001b[39m)\n",
      "\u001b[1;31mValueError\u001b[0m: I/O operation on closed file."
     ]
    }
   ],
   "source": [
    "#문제3\n",
    "#아래와 같은 내용을 지닌 test3.txt파일이 있다.\n",
    "#==================\n",
    "#Life is too short\n",
    "#you need java\n",
    "#==================\n",
    "#이 파일의 내용 중 \"java\"라는 문자열을 \"python\"으로 바꾸어 저장하는 코드를 작성하시오\n",
    "\n",
    "body = f.read()\n",
    "f.close()\n",
    "\n",
    "body = body.replace(\"java\", \"python\")\n",
    "\n",
    "f = open('test3.txt', 'w')\n",
    "f.write(body)\n",
    "f.close()\n",
    "\n",
    "#with open(\"test3.txt\", 'w') as f1:\n",
    "#    f1.write('=' *30 + '\\n')\n",
    "#    f1.write(\"Life is too short\\n\")\n",
    "#    f1.write(\"you need java\\n\")\n",
    "#    f1.write('=' *30)\n",
    "#with open(\"test3.txt\", 'r') as f1:\n",
    "#    content = f1.read()\n",
    "\n",
    "#content = content.replace('java','python')\n",
    "#with open(\"test3.txt\", 'w') as f1:\n",
    "#    f1.write(content)\n",
    "#with open(\"test3.txt\", 'r') as f2:\n",
    "#    updated_content = f2.read()\n",
    "#    print(updated_content)"
   ]
  },
  {
   "cell_type": "code",
   "execution_count": null,
   "metadata": {},
   "outputs": [],
   "source": [
    "#문제4\n",
    "#아래와 같이 실행할 때 입력값을 모두 더해 출력하는 스크립트\n",
    "#myargv.py 파일을 작성하시오\n",
    "#ex) python myargv.py 1 2 3 4 5 6 7 8 9 10  엔터\n",
    "#55\n",
    "\n",
    "import sys\n",
    "args = sys.argv[1:]\n",
    "result = 0\n",
    "\n",
    "for i in args:\n",
    "    result = result + int(i)\n",
    "\n",
    "print(result)   "
   ]
  },
  {
   "cell_type": "code",
   "execution_count": null,
   "metadata": {},
   "outputs": [],
   "source": []
  }
 ],
 "metadata": {
  "kernelspec": {
   "display_name": "base",
   "language": "python",
   "name": "python3"
  },
  "language_info": {
   "codemirror_mode": {
    "name": "ipython",
    "version": 3
   },
   "file_extension": ".py",
   "mimetype": "text/x-python",
   "name": "python",
   "nbconvert_exporter": "python",
   "pygments_lexer": "ipython3",
   "version": "3.11.7"
  }
 },
 "nbformat": 4,
 "nbformat_minor": 2
}
