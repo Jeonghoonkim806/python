{
 "cells": [
  {
   "cell_type": "code",
   "execution_count": 3,
   "metadata": {},
   "outputs": [
    {
     "name": "stdout",
     "output_type": "stream",
     "text": [
      "택시를 타고 가라\n"
     ]
    }
   ],
   "source": [
    "# if 제어문\n",
    "# '돈이 있으면 택시를 타고 가고, 돈이 없으면 걸어간다.' \n",
    "money = True\n",
    "if money:\n",
    "    print(\"택시를 타고 가라\")\n",
    "else:\n",
    "    print(\"걸어가라\")"
   ]
  },
  {
   "cell_type": "code",
   "execution_count": 6,
   "metadata": {},
   "outputs": [
    {
     "name": "stdout",
     "output_type": "stream",
     "text": [
      "걸어가라\n",
      "걸어가면 다리가 아파\n"
     ]
    }
   ],
   "source": [
    "# if 문의 기본 구조\n",
    "money = False\n",
    "if money:\n",
    "    print(\"택시를 타고 가라\")\n",
    "    print(\"알겠어\")\n",
    "else:\n",
    "    print(\"걸어가라\")\n",
    "    print(\"걸어가면 다리가 아파\")"
   ]
  },
  {
   "cell_type": "code",
   "execution_count": 13,
   "metadata": {},
   "outputs": [
    {
     "ename": "IndentationError",
     "evalue": "unexpected indent (1719741003.py, line 7)",
     "output_type": "error",
     "traceback": [
      "\u001b[1;36m  Cell \u001b[1;32mIn[13], line 7\u001b[1;36m\u001b[0m\n\u001b[1;33m    print(\"가라\") # error\u001b[0m\n\u001b[1;37m    ^\u001b[0m\n\u001b[1;31mIndentationError\u001b[0m\u001b[1;31m:\u001b[0m unexpected indent\n"
     ]
    }
   ],
   "source": [
    "# 들여쓰기 방법 알아보기\n",
    "# error 케이스\n",
    "money = True\n",
    "if money:\n",
    "    print(\"택시를\")\n",
    "print(\"타고\")\n",
    "    print(\"가라\") # error"
   ]
  },
  {
   "cell_type": "code",
   "execution_count": 12,
   "metadata": {},
   "outputs": [
    {
     "ename": "IndentationError",
     "evalue": "unexpected indent (521864249.py, line 6)",
     "output_type": "error",
     "traceback": [
      "\u001b[1;36m  Cell \u001b[1;32mIn[12], line 6\u001b[1;36m\u001b[0m\n\u001b[1;33m    print(\"가라\")\u001b[0m\n\u001b[1;37m    ^\u001b[0m\n\u001b[1;31mIndentationError\u001b[0m\u001b[1;31m:\u001b[0m unexpected indent\n"
     ]
    }
   ],
   "source": [
    "# error 케이스2\n",
    "money = True\n",
    "if money:\n",
    "    print(\"택시를\")\n",
    "    print(\"타고\")\n",
    "        print(\"가라\") # error  "
   ]
  },
  {
   "cell_type": "code",
   "execution_count": 15,
   "metadata": {},
   "outputs": [
    {
     "name": "stdout",
     "output_type": "stream",
     "text": [
      "True\n",
      "False\n",
      "True\n"
     ]
    }
   ],
   "source": [
    "x = 3\n",
    "y = 2\n",
    "\n",
    "print(x > y)\n",
    "print(x == y)\n",
    "print(x != y)"
   ]
  },
  {
   "cell_type": "code",
   "execution_count": 18,
   "metadata": {},
   "outputs": [
    {
     "name": "stdout",
     "output_type": "stream",
     "text": [
      "택시를 타고 가라\n"
     ]
    }
   ],
   "source": [
    "# 3000원 이상의 돈을 가지고 있으면 택시를 타고가고, 아니면 걸어가라\n",
    "# 위의 문장을 if문 코드로 작성하기\n",
    "money = 4000\n",
    "if money >= 3000:\n",
    "    print(\"택시를 타고 가라\")\n",
    "else:\n",
    "    print(\"걸어가라\")"
   ]
  },
  {
   "cell_type": "code",
   "execution_count": 22,
   "metadata": {},
   "outputs": [
    {
     "name": "stdout",
     "output_type": "stream",
     "text": [
      "택시를 타고 가라\n"
     ]
    }
   ],
   "source": [
    "# 논리 연산자(and, or, not)\n",
    "money = 2000\n",
    "card = True\n",
    "if money >= 3000 or card:  # or 연산자는 피연산자중 하나만 참이어도 가능\n",
    "    print(\"택시를 타고 가라\")\n",
    "else:\n",
    "    print(\"걸어가라\")"
   ]
  },
  {
   "cell_type": "code",
   "execution_count": 23,
   "metadata": {},
   "outputs": [
    {
     "name": "stdout",
     "output_type": "stream",
     "text": [
      "True\n"
     ]
    }
   ],
   "source": [
    "x = 4\n",
    "print(1 < x < 5)"
   ]
  },
  {
   "cell_type": "code",
   "execution_count": 24,
   "metadata": {},
   "outputs": [
    {
     "name": "stdout",
     "output_type": "stream",
     "text": [
      "True\n"
     ]
    }
   ],
   "source": [
    "print((3 == 3) and (4 != 3)) "
   ]
  },
  {
   "cell_type": "code",
   "execution_count": 25,
   "metadata": {},
   "outputs": [
    {
     "name": "stdout",
     "output_type": "stream",
     "text": [
      "False\n"
     ]
    }
   ],
   "source": [
    "print(3 >= 4) # 부등호는 꺽세보다 뒤에있어야함"
   ]
  },
  {
   "cell_type": "code",
   "execution_count": 29,
   "metadata": {},
   "outputs": [
    {
     "name": "stdout",
     "output_type": "stream",
     "text": [
      "1\n",
      "2\n",
      "4\n"
     ]
    }
   ],
   "source": [
    "int(\"3\")\n",
    "print(\"4\")if True:\n",
    "    print(\"1\")\n",
    "    print(\"2\")\n",
    "else:\n",
    "    pr"
   ]
  },
  {
   "cell_type": "code",
   "execution_count": 37,
   "metadata": {},
   "outputs": [
    {
     "data": {
      "text/plain": [
       "True"
      ]
     },
     "execution_count": 37,
     "metadata": {},
     "output_type": "execute_result"
    }
   ],
   "source": [
    "1 in (1,2,3)     # 튜플"
   ]
  },
  {
   "cell_type": "code",
   "execution_count": 38,
   "metadata": {},
   "outputs": [
    {
     "data": {
      "text/plain": [
       "False"
      ]
     },
     "execution_count": 38,
     "metadata": {},
     "output_type": "execute_result"
    }
   ],
   "source": [
    "1 not in [1,2,3]   # 리스트"
   ]
  },
  {
   "cell_type": "code",
   "execution_count": 36,
   "metadata": {},
   "outputs": [
    {
     "data": {
      "text/plain": [
       "True"
      ]
     },
     "execution_count": 36,
     "metadata": {},
     "output_type": "execute_result"
    }
   ],
   "source": [
    "'j' not in 'python'   # 문자열"
   ]
  },
  {
   "cell_type": "code",
   "execution_count": 43,
   "metadata": {},
   "outputs": [
    {
     "name": "stdout",
     "output_type": "stream",
     "text": [
      "택시를 타고 가라\n"
     ]
    }
   ],
   "source": [
    "pocket = ['paper', 'cellphone', 'money']\n",
    "if 'money' in pocket:\n",
    "    print(\"택시를 타고 가라\")\n",
    "else:\n",
    "    print(\"걸어가라\")"
   ]
  },
  {
   "cell_type": "code",
   "execution_count": 45,
   "metadata": {},
   "outputs": [
    {
     "name": "stdout",
     "output_type": "stream",
     "text": [
      "택시를 타고 가라\n"
     ]
    }
   ],
   "source": [
    "pocket = ['paper', 'cellphone', 'money']\n",
    "if True:\n",
    "    print(\"택시를 타고 가라\")\n",
    "else:\n",
    "    print(\"걸어가라\")"
   ]
  },
  {
   "cell_type": "code",
   "execution_count": 47,
   "metadata": {},
   "outputs": [],
   "source": [
    "pocket = ['paper', 'cellphone', 'money']\n",
    "if 'money' in pocket:\n",
    "    pass\n",
    "else:\n",
    "    print(\"카드를 꺼내라\")\n",
    "\n",
    "if 'money' not in pocket:\n",
    "    print(\"카드를 꺼내라\")"
   ]
  },
  {
   "cell_type": "code",
   "execution_count": 51,
   "metadata": {},
   "outputs": [
    {
     "name": "stdout",
     "output_type": "stream",
     "text": [
      "택시를 타고가라\n",
      "택시를 타고가라\n"
     ]
    }
   ],
   "source": [
    "# 주머니에 돈이 있으면 택시를 타고가고,\n",
    "# 주머니에 돈은 없지만 카드가 있으면 택시를 타고 가고,\n",
    "# 돋도 없고 카드도 없으면 걸어가라.\n",
    "\n",
    "print(\"택시를 poket = ['paper', 'cellphone']\n",
    "card = True\n",
    "if 'money' in pocket:\n",
    "    print(\"택시를 타고가라\")\n",
    "else:\n",
    "    if card:타고가라\")\n",
    "    else:\n",
    "        print(\"걸어가라\")\n",
    "\n",
    "samsung_pay1 = True\n",
    "if 'money' in poket:\n",
    "    print(\"택시를 타고가라\")\n",
    "elif card:\n",
    "    print(\"택시를 타고가라\")\n",
    "elif samsung_pay1:\n",
    "    print(\"택시를 타고가라\")\n",
    "else:\n",
    "    print(\"걸어가라\")"
   ]
  },
  {
   "cell_type": "code",
   "execution_count": 52,
   "metadata": {},
   "outputs": [
    {
     "name": "stdout",
     "output_type": "stream",
     "text": [
      "택시를 타고가라\n"
     ]
    }
   ],
   "source": [
    "if ('money' in pocket) or card or samsung_pay1:\n",
    "    print(\"택시를 타고가라\")\n",
    "else:\n",
    "    print(\"걸어가라\")"
   ]
  },
  {
   "cell_type": "code",
   "execution_count": 53,
   "metadata": {},
   "outputs": [],
   "source": [
    "# if 문을 한 줄로 작성하기\n",
    "pocket = ['paper', 'money', 'cellphone']\n",
    "if 'money' in pocket: pass\n",
    "else: print(\"카드를 꺼내라\")"
   ]
  },
  {
   "cell_type": "code",
   "execution_count": 54,
   "metadata": {},
   "outputs": [
    {
     "name": "stdout",
     "output_type": "stream",
     "text": [
      "택시를 타고가라\n"
     ]
    }
   ],
   "source": [
    "if ('money' in pocket) or card or samsung_pay1:\n",
    "    print(\"택시를 타고가라\")\n",
    "else:\n",
    "    print(\"걸어가라\")"
   ]
  },
  {
   "cell_type": "code",
   "execution_count": 57,
   "metadata": {},
   "outputs": [],
   "source": [
    "# 조건부 표현식\n",
    "# 변수 = 조건문이_참인_경우의_값 if 조건문 else 조건문이_거짓인_경우의_값\n",
    "score = 70\n",
    "message = \"success\" if score >= 60 else \"failure\""
   ]
  },
  {
   "cell_type": "code",
   "execution_count": 62,
   "metadata": {},
   "outputs": [
    {
     "name": "stdout",
     "output_type": "stream",
     "text": [
      "입력값 타입 <class 'str'>\n",
      "입력값 안다고\n"
     ]
    }
   ],
   "source": [
    "# input함수 (리턴값은 어떤 타입?)\n",
    "user_input = input(\"입력값을 작성하세요: \")\n",
    "print('입력값 타입', type(user_input))\n",
    "print(\"입력값\", user_input)"
   ]
  },
  {
   "cell_type": "code",
   "execution_count": 66,
   "metadata": {},
   "outputs": [
    {
     "name": "stdout",
     "output_type": "stream",
     "text": [
      "안녕하세요안녕하세요\n"
     ]
    }
   ],
   "source": [
    "# 문자열을 2번 출력하는 코드 작성하기 (ex 언녕하세요)\n",
    "user_input = input()\n",
    "print(user_input*2)"
   ]
  },
  {
   "cell_type": "code",
   "execution_count": null,
   "metadata": {},
   "outputs": [],
   "source": [
    "#문제6\n",
    "#사용자로부터 하나의 숫자를 입력받고, 입력 받은 숫자에 10을 더해 출력하라\n",
    "\n",
    "#문제7\n",
    "#사용자로부터 하나의 숫자를 입력 받고 짝수이면 \"짝수\" 출력, 홀수이면 \"홀수\" 출력\n",
    "\n",
    "#문제8\n",
    "#사용자로부터 숫자 값을 입력받은 후 값에 20을 더한 값을 출력하라\n",
    "\n",
    "##문제9\n",
    "#사용자로부터 숫자 값을 입력받은 후 값에 20을 뺀 값을 출력하라\n",
    "#단, 출력 값의 범위는 0~255이다. 예를 들어 결과값이 0보다 작은 값이 되는 경우 0을 출력하고\n",
    "#255보다 큰 값이 되는 경우 255를 출력하라\n",
    "\n",
    "#문제10\n",
    "#사용자로부터 입력 받은 시간이 정각인지 판별하라\n",
    "#ex) 출력예시: 입력 -> 02:00    출력 -> 정각입니다.\n",
    "#입력 -> 03:10    출력 -> 정각이 아닙니다."
   ]
  },
  {
   "cell_type": "code",
   "execution_count": 85,
   "metadata": {},
   "outputs": [
    {
     "name": "stdout",
     "output_type": "stream",
     "text": [
      "20\n"
     ]
    }
   ],
   "source": [
    "# 문제6\n",
    "# 사용자로부터 하나의 숫자를 입력받고, 입력 받은 숫자에 10을 더해 출력하라.(int함수 사용)\n",
    "user_number = input(\"숫자를 입력하세요: \")\n",
    "int(user_number) + 10"
   ]
  },
  {
   "cell_type": "code",
   "execution_count": 94,
   "metadata": {},
   "outputs": [
    {
     "name": "stdout",
     "output_type": "stream",
     "text": [
      "홀수\n"
     ]
    }
   ],
   "source": [
    "# 문제7\n",
    "# 사용자로부터 하나의 숫자를 입력 받고 짝수이면 \"짝수\" 출력, 홀수이면 \"홀수\" 출력\n",
    "user_number = input(\"숫자를 입력하세요: \")\n",
    "\n",
    "if int(user_number) % 2 == 0: print(\"짝수\")\n",
    "else: print(\"홀수\")"
   ]
  },
  {
   "cell_type": "code",
   "execution_count": 107,
   "metadata": {},
   "outputs": [
    {
     "name": "stdout",
     "output_type": "stream",
     "text": [
      "10\n"
     ]
    }
   ],
   "source": [
    "# 문제8\n",
    "# 사용자로부터 숫자 값을 입력받은 후 값에 20을 더한 값을 출력하라\n",
    "# 단, 사용자가 입력한 값과 20을 더한 계산 값이 255를 초과하는 경우 255를 출력\n",
    "user_number = input(\"숫자를 입력하세요: \")\n",
    "a = int(user_number) + 20\n",
    "\n",
    "if a <= 255: print(a)\n",
    "else: print(255)"
   ]
  },
  {
   "cell_type": "code",
   "execution_count": 117,
   "metadata": {},
   "outputs": [
    {
     "name": "stdout",
     "output_type": "stream",
     "text": [
      "255\n"
     ]
    }
   ],
   "source": [
    "# 문제9\n",
    "# 사용자로부터 숫자 값을 입력받은 후 값에 20을 뺀 값을 출력하라\n",
    "# 단, 출력 값의 범위는 0~255이다. 예를 들어 결과값이 0보다 작은 값이 되는 경우 0을 출력하고\n",
    "# 255보다 큰 값이 되는 경우 255를 출력하라\n",
    "user_number = input(\"숫자를 입력하세요: \")\n",
    "a = int(user_number) - 20\n",
    "\n",
    "if a > 255: print(255)\n",
    "elif a < 0: print(0)\n",
    "else: print(a)"
   ]
  },
  {
   "cell_type": "code",
   "execution_count": 124,
   "metadata": {},
   "outputs": [
    {
     "name": "stdout",
     "output_type": "stream",
     "text": [
      "정각입니다.\n"
     ]
    }
   ],
   "source": [
    "# 문제10\n",
    "# 사용자로부터 입력 받은 시간이 정각인지 판별하라\n",
    "# ex) 출력예시: 입력 -> 02:00    출력 -> 정각입니다.\n",
    "#              입력 -> 03:10    출력 -> 정각이 아닙니다.\n",
    "time = input(\"현재시간: \")\n",
    "\n",
    "if time[-2:] == \"00\": print(\"정각입니다.\")\n",
    "else: print(\"정각이 아닙니다.\")"
   ]
  },
  {
   "cell_type": "code",
   "execution_count": null,
   "metadata": {},
   "outputs": [],
   "source": []
  },
  {
   "cell_type": "code",
   "execution_count": null,
   "metadata": {},
   "outputs": [],
   "source": []
  }
 ],
 "metadata": {
  "kernelspec": {
   "display_name": "base",
   "language": "python",
   "name": "python3"
  },
  "language_info": {
   "codemirror_mode": {
    "name": "ipython",
    "version": 3
   },
   "file_extension": ".py",
   "mimetype": "text/x-python",
   "name": "python",
   "nbconvert_exporter": "python",
   "pygments_lexer": "ipython3",
   "version": "3.11.7"
  }
 },
 "nbformat": 4,
 "nbformat_minor": 2
}
