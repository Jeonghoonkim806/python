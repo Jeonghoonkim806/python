{
 "cells": [
  {
   "cell_type": "code",
   "execution_count": null,
   "metadata": {},
   "outputs": [],
   "source": [
    "# 일반적인 함수 모양\n",
    "\n",
    "def add(a, b):\n",
    "    result = a + b\n",
    "    return result\n",
    "\n",
    "# 번외1: camel case(영어에만...)  대소문자 -> A,a\n",
    "# 학생선생님 -> studentTeacher (jana, javascript, c++)\n",
    "# 번외2: 일본어, 중국어 -> 띄워쓰기 x\n",
    "\n",
    "# snake case\n",
    "# 리턴값을"
   ]
  },
  {
   "cell_type": "code",
   "execution_count": 3,
   "metadata": {},
   "outputs": [
    {
     "name": "stdout",
     "output_type": "stream",
     "text": [
      "3, 4의 합은 7입니다.\n",
      "None\n"
     ]
    }
   ],
   "source": [
    "# 리턴값이 없는 함수\n",
    "def add(a, b):\n",
    "    print(\"%d, %d의 합은 %d입니다.\" % (a, b, a+b))\n",
    "\n",
    "c = add(3, 4)\n",
    "print(c) # None"
   ]
  },
  {
   "cell_type": "code",
   "execution_count": 6,
   "metadata": {},
   "outputs": [
    {
     "name": "stdout",
     "output_type": "stream",
     "text": [
      "Hi\n"
     ]
    }
   ],
   "source": [
    "# 입력값도, 리턴값도 없는 함수(가장 간단한 함수)\n",
    "\n",
    "def say():\n",
    "    print('Hi')\n",
    "\n",
    "say()"
   ]
  },
  {
   "cell_type": "code",
   "execution_count": 8,
   "metadata": {},
   "outputs": [
    {
     "name": "stdout",
     "output_type": "stream",
     "text": [
      "4\n"
     ]
    }
   ],
   "source": [
    "# 매개변수를 지정하여 호출하기\n",
    "\n",
    "def sub(a, b):\n",
    "    return a - b\n",
    "\n",
    "result = sub(a=7, b=3)  # a에 7, b에 3을 전달\n",
    "print(result)\n"
   ]
  },
  {
   "cell_type": "code",
   "execution_count": 10,
   "metadata": {},
   "outputs": [
    {
     "name": "stdout",
     "output_type": "stream",
     "text": [
      "4\n",
      "-2\n"
     ]
    }
   ],
   "source": [
    "def sub(a, b):\n",
    "    return a - b\n",
    "\n",
    "result = sub(b=3, a=7)  # a에 7, b에 3을 전달\n",
    "print(result)\n",
    "\n",
    "result = sub(b=5, a=3)  # a에 3, b에 5을 전달\n",
    "print(result)"
   ]
  },
  {
   "cell_type": "code",
   "execution_count": 11,
   "metadata": {},
   "outputs": [],
   "source": [
    "# 입력값이 몇 개가 될지 모를떄는\n",
    "\n",
    "#def 함수_이름(*매개변수):\n",
    "#    수행할_문장\n",
    "#    ...\n",
    "\n"
   ]
  },
  {
   "cell_type": "code",
   "execution_count": 15,
   "metadata": {},
   "outputs": [
    {
     "name": "stdout",
     "output_type": "stream",
     "text": [
      "3\n",
      "6\n",
      "55\n"
     ]
    }
   ],
   "source": [
    "def add_many(*args):  # 몇개가 올지 모름, *가 중요 뒤에는 아무거나 상관x\n",
    "    result = 0\n",
    "    for i in args:\n",
    "        result = result + i  # *args에 입력받은 모든 값을 더한다.\n",
    "\n",
    "    return result\n",
    "\n",
    "a = add_many(1,2)\n",
    "print(a)\n",
    "b = add_many(1,2,3)\n",
    "print(b)\n",
    "c = add_many(1,2,3,4,5,6,7,8,9,10)\n",
    "print(c)"
   ]
  },
  {
   "cell_type": "code",
   "execution_count": 18,
   "metadata": {},
   "outputs": [
    {
     "name": "stdout",
     "output_type": "stream",
     "text": [
      "15\n",
      "120\n",
      "aaa\n",
      "aaa bbb\n",
      "aaa bbb ccc\n"
     ]
    }
   ],
   "source": [
    "def add_mul(choice, *args):\n",
    "    if choice == \"add\":\n",
    "        result = 0\n",
    "        for i in args:\n",
    "            result = result + i\n",
    "    elif choice == \"mul\":\n",
    "        result = 1\n",
    "        for i in args:\n",
    "            result = result *i\n",
    "    return result\n",
    "\n",
    "result = add_mul('add', 1,2,3,4,5)\n",
    "print(result)\n",
    "\n",
    "result = add_mul('mul', 1,2,3,4,5)\n",
    "print(result)\n",
    "\n",
    "# def add_mul(*args, choice): 이렇게 사용해서는 안된다 *args\n",
    "\n",
    "# 예시 -> print()\n",
    "print(\"aaa\")\n",
    "print(\"aaa\", \"bbb\")\n",
    "print(\"aaa\", \"bbb\", \"ccc\")"
   ]
  },
  {
   "cell_type": "code",
   "execution_count": 20,
   "metadata": {},
   "outputs": [
    {
     "name": "stdout",
     "output_type": "stream",
     "text": [
      "{'a': 1}\n",
      "{'name': 'foo', 'age': 3}\n"
     ]
    }
   ],
   "source": [
    "# 키워드 매개변수, kwargs\n",
    "#(key와 value로 구성된 딕셔너리의 매개변수)\n",
    "\n",
    "def print_kwargs(**kwargs):\n",
    "    print(kwargs)\n",
    "\n",
    "print_kwargs(a=1)\n",
    "print_kwargs(name='foo', age=3)\n"
   ]
  },
  {
   "cell_type": "code",
   "execution_count": 26,
   "metadata": {},
   "outputs": [
    {
     "name": "stdout",
     "output_type": "stream",
     "text": [
      "<class 'tuple'>\n",
      "(7, 12)\n",
      "7\n",
      "12\n"
     ]
    }
   ],
   "source": [
    "# 함수의 리턴값은 언제나 하나의 자료형(리스트, 숫자형 etc)이다.\n",
    "\n",
    "def add_and_mul(a,b):\n",
    "    return a+b, a*b   # 리턴값은 튜플\n",
    "\n",
    "result = add_and_mul(3,4)\n",
    "print(type(result))\n",
    "print(result)\n",
    "\n",
    "result1, result2 = add_and_mul(3,4)\n",
    "print(result1)\n",
    "print(result2)"
   ]
  },
  {
   "cell_type": "code",
   "execution_count": 35,
   "metadata": {},
   "outputs": [
    {
     "name": "stdout",
     "output_type": "stream",
     "text": [
      "5\n"
     ]
    }
   ],
   "source": [
    "# 항상 먼저 나오는 return이 나오면 함수는 종료가 된다.\n",
    "def add_amd_mul(a,b):\n",
    "    return a+b\n",
    "    return a*b        # 실행이 되지 않는다.\n",
    "    print(\"나오냐\")    # 실행이 되지 않는다.\n",
    "\n",
    "result = add_amd_mul(2, 3)\n",
    "print(result)"
   ]
  },
  {
   "cell_type": "code",
   "execution_count": 36,
   "metadata": {},
   "outputs": [
    {
     "name": "stdout",
     "output_type": "stream",
     "text": [
      "나의 별명은 슈퍼맨 입니다.\n",
      "나의 별명은 아이언맨 입니다.\n",
      "나의 별명은 앤트맨 입니다.\n"
     ]
    }
   ],
   "source": [
    "# return의 또 다른 쓰임새\n",
    "\n",
    "def say_nick(nick):\n",
    "    if nick == \"바보\":\n",
    "        return\n",
    "    print(\"나의 별명은 %s 입니다.\" % nick)\n",
    "\n",
    "say_nick(\"슈퍼맨\")\n",
    "say_nick(\"아이언맨\")\n",
    "say_nick(\"바보\")\n",
    "say_nick(\"앤트맨\")"
   ]
  },
  {
   "cell_type": "code",
   "execution_count": 44,
   "metadata": {},
   "outputs": [
    {
     "name": "stdout",
     "output_type": "stream",
     "text": [
      "나의 이름은 김정훈 입니다.\n",
      "나이는 34살입니다.\n",
      "국적은 한국입니다.\n",
      "남자입니다.\n",
      "나의 이름은 김정훈 입니다.\n",
      "나이는 34살입니다.\n",
      "국적은 한국입니다.\n",
      "남자입니다.\n",
      "나의 이름은 김정훈 입니다.\n",
      "나이는 34살입니다.\n",
      "국적은 한국입니다.\n",
      "여자입니다.\n"
     ]
    }
   ],
   "source": [
    "# 매개변수에 초깃값 미리 설정하기\n",
    "# defaul.py\n",
    "def say_myself(name, age, man=True, country = \"한국\"):\n",
    "    print(\"나의 이름은 %s 입니다.\" % name)\n",
    "    print(\"나이는 %d살입니다.\" % age)\n",
    "    print(\"국적은 %s입니다.\" % country)\n",
    "    if man:\n",
    "        print(\"남자입니다.\")\n",
    "    else:\n",
    "        print(\"여자입니다.\")\n",
    "   \n",
    "say_myself(\"김정훈\", 34)         # man의 매개변수가 True로 설정\n",
    "say_myself(\"김정훈\", 34, True)   # man의 매개변수를 True로 overwrite\n",
    "say_myself(\"김정훈\", 34, False)  # man의 매개변수를 True로 False로 overwrite"
   ]
  },
  {
   "cell_type": "code",
   "execution_count": 47,
   "metadata": {},
   "outputs": [
    {
     "ename": "SyntaxError",
     "evalue": "non-default argument follows default argument (149294855.py, line 2)",
     "output_type": "error",
     "traceback": [
      "\u001b[1;36m  Cell \u001b[1;32mIn[47], line 2\u001b[1;36m\u001b[0m\n\u001b[1;33m    def say_myself(name, man=True, age):\u001b[0m\n\u001b[1;37m                                   ^\u001b[0m\n\u001b[1;31mSyntaxError\u001b[0m\u001b[1;31m:\u001b[0m non-default argument follows default argument\n"
     ]
    }
   ],
   "source": [
    "# 매개변수 초깃값 미리 설정시에 주의할 점\n",
    "# default2.py\n",
    "def say_myself(name, man=True, age):\n",
    "    print(\"나의 이름은 %s 입니다.\" %name)\n",
    "    print(\"나이는 %d살입니다.\" % age)\n",
    "    if man:\n",
    "        print(\"남자입니다.\")\n",
    "    else:\n",
    "        print(\"여자입니다.\")\n",
    "\n",
    "#say_myself(\"김정훈\", 34) # error\n",
    "\n"
   ]
  },
  {
   "cell_type": "code",
   "execution_count": 53,
   "metadata": {},
   "outputs": [
    {
     "name": "stdout",
     "output_type": "stream",
     "text": [
      "1\n"
     ]
    }
   ],
   "source": [
    "# 함수 안에서 선언한 변수의 효력 범위\n",
    "# vartest.py\n",
    "\n",
    "a = 1\n",
    "def vartest(a):\n",
    "    a = a +1  # ark 1일 경우 함수 안의 a는 2가 됨\n",
    "\n",
    "vartest(a)  # a에 1이 들어감\n",
    "print(a)    # 함수 밖의 a의 값이 들어감. 즉 1이 됨"
   ]
  },
  {
   "cell_type": "code",
   "execution_count": 61,
   "metadata": {},
   "outputs": [
    {
     "ename": "NameError",
     "evalue": "name 'p' is not defined",
     "output_type": "error",
     "traceback": [
      "\u001b[1;31m---------------------------------------------------------------------------\u001b[0m",
      "\u001b[1;31mNameError\u001b[0m                                 Traceback (most recent call last)",
      "Cell \u001b[1;32mIn[61], line 7\u001b[0m\n\u001b[0;32m      4\u001b[0m     p \u001b[38;5;241m=\u001b[39m p \u001b[38;5;241m+\u001b[39m \u001b[38;5;241m1\u001b[39m\n\u001b[0;32m      6\u001b[0m vartest(\u001b[38;5;241m3\u001b[39m)  \u001b[38;5;66;03m# error가 아니다.\u001b[39;00m\n\u001b[1;32m----> 7\u001b[0m \u001b[38;5;28mprint\u001b[39m(p)\n",
      "\u001b[1;31mNameError\u001b[0m: name 'p' is not defined"
     ]
    }
   ],
   "source": [
    "# vartest_error.py\n",
    "# p = 1\n",
    "def vartest(p):\n",
    "    p = p + 1\n",
    "\n",
    "vartest(3)  # error가 아니다.\n",
    "print(p)    # error이다."
   ]
  },
  {
   "cell_type": "code",
   "execution_count": null,
   "metadata": {},
   "outputs": [],
   "source": [
    "# 함수 안에서 함수 밖의 변수를 변경하는 방법 -> 비추천\n",
    "# 1. return 사용하기 \n",
    "# 함수 밖의 변수와 안의 변수를 동기화 시킴\n",
    "# vartest_return.py\n",
    "a = 1             # 함수 밖의 변수 a\n",
    "def vartest(a):   # 함수 안의 변수 a\n",
    "    a = a + 1\n",
    "    return a\n",
    "\n",
    "a = vartest(a)    # a = 2\n",
    "print(a)          # 2"
   ]
  },
  {
   "cell_type": "code",
   "execution_count": 65,
   "metadata": {},
   "outputs": [
    {
     "name": "stdout",
     "output_type": "stream",
     "text": [
      "1\n"
     ]
    }
   ],
   "source": [
    "# global 명령어 사용하기 -> 비추천\n",
    "# vartest_global.py\n",
    "a = 1\n",
    "def vartest():\n",
    "    global a     # 함수 밖의 a변수를 가리킴\n",
    "    a = a + 1\n",
    "\n",
    "vartest\n",
    "print(a)"
   ]
  },
  {
   "cell_type": "code",
   "execution_count": 66,
   "metadata": {},
   "outputs": [
    {
     "name": "stdout",
     "output_type": "stream",
     "text": [
      "7\n"
     ]
    }
   ],
   "source": [
    "# lambda 예약어\n",
    "# 함수_이름 = lambda 매개변수1, 매개변수2,..... : 매개변수를_이용한_표현식\n",
    "add = lambda a, b: a+b  # add라는 람다(lambda) 함수 생성\n",
    "result = add(3, 4) # 람다 사용시 ()사용\n",
    "print(result)"
   ]
  },
  {
   "cell_type": "code",
   "execution_count": null,
   "metadata": {},
   "outputs": [],
   "source": [
    "# 문제 1\n",
    "# 괄호 안의 인자인 number1, number2를 입력값으로 받아 ressult=(num1+num2)을 수행하고,\n",
    "# 그의 결과값 result를 반환한 후 종료하는 이름이 average라 하는 함수를 정의해보자."
   ]
  },
  {
   "cell_type": "code",
   "execution_count": 76,
   "metadata": {},
   "outputs": [
    {
     "data": {
      "text/plain": [
       "3"
      ]
     },
     "execution_count": 76,
     "metadata": {},
     "output_type": "execute_result"
    }
   ],
   "source": [
    "def average (number1, number2):\n",
    "    result = number1 + number2\n",
    "    return result\n",
    "\n",
    "average(1, 2)"
   ]
  },
  {
   "cell_type": "code",
   "execution_count": 69,
   "metadata": {},
   "outputs": [
    {
     "name": "stdout",
     "output_type": "stream",
     "text": [
      "1\n",
      "2\n",
      "3\n"
     ]
    }
   ],
   "source": [
    "# 문제2\n",
    "# 다음과 같은 함수가 정의되어 있을 때, 다음 실행문의 결과를 예측해보자.\n",
    "\n",
    "def print_list(num_list):\n",
    "    for n in num_list:\n",
    "        if(n != 0):\n",
    "            print(n)\n",
    "        else:\n",
    "            break\n",
    "\n",
    "print_list([1,2,3,0])"
   ]
  },
  {
   "cell_type": "code",
   "execution_count": 82,
   "metadata": {},
   "outputs": [
    {
     "name": "stdout",
     "output_type": "stream",
     "text": [
      "매개변수 길이 4\n",
      "매개변수1: 100\n",
      "매개변수2: 86\n",
      "높은 점수: 100\n",
      "매개변수 길이 2\n",
      "매개변수1: 86\n",
      "매개변수2: 91\n",
      "높은 점수: 91\n"
     ]
    }
   ],
   "source": [
    "#문제3\n",
    "#다음 소스 코드를 완성하여 가장 높은 점수가 출력되게 하는 get_max_score함수를 만드시오\n",
    "korean, english, mathematics, science = 100, 86, 81, 91\n",
    " \n",
    "def get_max_score(*args):\n",
    "    print(\"매개변수 길이\", len(args))\n",
    "    print(\"매개변수1:\", args[0])\n",
    "    print(\"매개변수2:\", args[1])\n",
    "\n",
    "    init1 = 0\n",
    "    # for문 이용\n",
    "    for item in args:\n",
    "        if init1 < item:\n",
    "            init1 = item\n",
    "\n",
    "    return init1\n",
    "\n",
    "max_score = get_max_score(korean, english, mathematics, science)\n",
    "print('높은 점수:', max_score)\n",
    "#높은 점수: 100\n",
    "max_score = get_max_score(english, science)\n",
    "print('높은 점수:', max_score)\n",
    "#높은 점수: 91"
   ]
  },
  {
   "cell_type": "code",
   "execution_count": 83,
   "metadata": {},
   "outputs": [
    {
     "name": "stdout",
     "output_type": "stream",
     "text": [
      "높은 점수: 100\n",
      "높은 점수: 91\n",
      "3\n"
     ]
    }
   ],
   "source": [
    "\n",
    "def get_max_score(*args):\n",
    "    return max(args)\n",
    "def get_min_score(*args):\n",
    "    return min(args)\n",
    "\n",
    "korean, english, mathematics, science = 100, 86, 81, 91\n",
    "\n",
    "max_score = get_max_score(korean, english, mathematics, science)\n",
    "print('높은 점수:', max_score)\n",
    "#높은 점수: 100\n",
    "max_score = get_max_score(english, science)\n",
    "print('높은 점수:', max_score)\n",
    "\n",
    "print(max([1,2,3,]))"
   ]
  },
  {
   "cell_type": "code",
   "execution_count": null,
   "metadata": {},
   "outputs": [],
   "source": [
    "#문제4\n",
    "#양의 정수 n을 입력하면 1부터 n까지 곱해주는 factorial 함수를 만들어 보세요.\n",
    "#출력 예시 -> x가 1일때 1, x가 2일때 2, x가 3일 때 6, x가 4일 때 24, ...\n",
    "#4! -> 4*3*2*1\n",
    "#5! -> 5*4*3*2*1"
   ]
  },
  {
   "cell_type": "code",
   "execution_count": 86,
   "metadata": {},
   "outputs": [
    {
     "name": "stdout",
     "output_type": "stream",
     "text": [
      "6\n",
      "24\n",
      "120\n",
      "720\n"
     ]
    }
   ],
   "source": [
    "def factorial(x):\n",
    "    result = 1\n",
    "    for i in range(1, x + 1):  # 1 ~ x\n",
    "        result = result * i    # x * (x - 1) ... *1\n",
    "\n",
    "    return result\n",
    "\n",
    "print(factorial(3))\n",
    "print(factorial(4))\n",
    "print(factorial(5))\n",
    "print(factorial(6))"
   ]
  },
  {
   "cell_type": "code",
   "execution_count": 99,
   "metadata": {},
   "outputs": [
    {
     "name": "stdout",
     "output_type": "stream",
     "text": [
      "100\n"
     ]
    }
   ],
   "source": [
    "def get_min_score(*args):\n",
    "    init = args[0]\n",
    "    # for문 이용\n",
    "    for item in args:\n",
    "        if init > item:\n",
    "            init = item\n",
    "            \n",
    "    return init\n",
    "korean, english, mathematics, science = 100, 86, 81, 91\n",
    "\n",
    "min_score = get_min_score(korean, english, mathematics, science)\n",
    "print(min_score)"
   ]
  },
  {
   "cell_type": "code",
   "execution_count": null,
   "metadata": {},
   "outputs": [],
   "source": [
    "# 문제 5\n",
    "# 서울 남부터미널에서 춘천, 부산, 대구, 수원으로 가는 기차표를 예매하는 프로그램을 작성하려 한다.\n",
    "# 각 도시 당 5,000원, 30,000원, 10,000원, 2000원의 비용이 든다.\n",
    "# 도시 이름을 입력하면 금액을 결정하고 출력해주는 함수를 작성해보자.\n",
    "dic = {'춘천':5000, '부산':30000, '대구':10000, '수원':2000}"
   ]
  },
  {
   "cell_type": "code",
   "execution_count": 6,
   "metadata": {},
   "outputs": [
    {
     "name": "stdout",
     "output_type": "stream",
     "text": [
      "<function cost at 0x0000018475A4B420> 까지의 금액은 ['부산'] 입니다.\n"
     ]
    },
    {
     "data": {
      "text/plain": [
       "30000"
      ]
     },
     "execution_count": 6,
     "metadata": {},
     "output_type": "execute_result"
    }
   ],
   "source": [
    "def cost(city):\n",
    "   dic = {'춘천':5000, '부산':30000, '대구':10000, '수원':2000}\n",
    "   if city in dic:\n",
    "      result = dic[city]\n",
    "      return result\n",
    "\n",
    "print(cost,\"까지의 금액은\",['부산'],\"입니다.\")\n",
    "\n",
    "\n",
    "\n",
    "city = input('춘천(운임 : 5000원) / 부산(운임 : 30000원) / 대구(운임 : 10000원 / 수원(운임 : 2000원) \\n중 한곳을 입력하세요.')\n",
    "cost(city)"
   ]
  },
  {
   "cell_type": "code",
   "execution_count": null,
   "metadata": {},
   "outputs": [],
   "source": []
  },
  {
   "cell_type": "code",
   "execution_count": 7,
   "metadata": {},
   "outputs": [],
   "source": [
    "#문제6\n",
    "#회사의 한 부서에서 출근 여부를 입력하는 프로그램을 만들려고 한다.\n",
    "#출근한 사람이 본인의 이름을 입력하면 출근이 완료되었다고 출력해주는 함수를 작성해보자.\n",
    "def check(name):\n",
    "    list = ['suzi', 'jisu', 'jennie', 'rose', 'lisa']\n",
    "    \n",
    "    if name in list: \n",
    "        print(\"출근 완료되었습니다.\")\n",
    "    else:\n",
    "        print(\"출근이 불가합니다.\")\n",
    "\n",
    "while True:\n",
    "        name = input('jisu : ')\n",
    "        if name == \"바이바이\":\n",
    "             break\n",
    "        check(name)\n",
    "\n",
    "#이름을 입력하세요 : suzi\n",
    "#출근 완료되었습니다.\n",
    "\n",
    "#이름을 입력하세요 : jin\n",
    "#출근이 불가합니다.\n"
   ]
  },
  {
   "cell_type": "code",
   "execution_count": null,
   "metadata": {},
   "outputs": [],
   "source": []
  },
  {
   "cell_type": "code",
   "execution_count": 4,
   "metadata": {},
   "outputs": [
    {
     "name": "stdout",
     "output_type": "stream",
     "text": [
      "18\n"
     ]
    }
   ],
   "source": [
    "#문제7\n",
    "#사각형의 둘레를 구하는 함수를 작성해보고, 두변의 길이가 각각 3과 6인 사각형의 둘레를 출력해보자.\n",
    "def circle(a,b):\n",
    "    # 코드 작성\n",
    "    return (a + b) * 2 \n",
    "result = circle(3, 6)\n",
    "\n",
    "\n",
    "print(result)\n"
   ]
  },
  {
   "cell_type": "code",
   "execution_count": null,
   "metadata": {},
   "outputs": [],
   "source": []
  }
 ],
 "metadata": {
  "kernelspec": {
   "display_name": "base",
   "language": "python",
   "name": "python3"
  },
  "language_info": {
   "codemirror_mode": {
    "name": "ipython",
    "version": 3
   },
   "file_extension": ".py",
   "mimetype": "text/x-python",
   "name": "python",
   "nbconvert_exporter": "python",
   "pygments_lexer": "ipython3",
   "version": "3.11.7"
  }
 },
 "nbformat": 4,
 "nbformat_minor": 2
}
